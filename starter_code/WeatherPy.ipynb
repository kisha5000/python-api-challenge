{
 "cells": [
  {
   "cell_type": "markdown",
   "metadata": {},
   "source": [
    "# WeatherPy\n",
    "----\n",
    "\n",
    "#### Note\n",
    "* Instructions have been included for each segment. You do not have to follow them exactly, but they are included to help you think through the steps."
   ]
  },
  {
   "cell_type": "code",
   "execution_count": 8,
   "metadata": {
    "scrolled": true
   },
   "outputs": [],
   "source": [
    "# Dependencies and Setup\n",
    "import matplotlib.pyplot as plt\n",
    "import pandas as pd\n",
    "import numpy as np\n",
    "import requests\n",
    "import time\n",
    "from scipy.stats import linregress\n",
    "\n",
    "# Import API key\n",
    "from api_keys import weather_api_key\n",
    "\n",
    "# Incorporated citipy to determine city based on latitude and longitude\n",
    "from citipy import citipy\n",
    "\n",
    "# Output File (CSV)\n",
    "output_data_file = \"../output_data/cities.csv\"\n",
    "\n",
    "\n",
    "# Range of latitudes and longitudes\n",
    "lat_range = (-90, 90)\n",
    "lng_range = (-180, 180)\n",
    "\n"
   ]
  },
  {
   "cell_type": "markdown",
   "metadata": {},
   "source": [
    "## Generate Cities List"
   ]
  },
  {
   "cell_type": "code",
   "execution_count": 36,
   "metadata": {},
   "outputs": [
    {
     "data": {
      "text/plain": [
       "657"
      ]
     },
     "execution_count": 36,
     "metadata": {},
     "output_type": "execute_result"
    }
   ],
   "source": [
    "# List for holding lat_lngs and cities\n",
    "lat_lngs = []\n",
    "cities = []\n",
    "\n",
    "# Create a set of random lat and lng combinations\n",
    "lats = np.random.uniform(lat_range[0], lat_range[1], size=1500)\n",
    "lngs = np.random.uniform(lng_range[0], lng_range[1], size=1500)\n",
    "lat_lngs = zip(lats, lngs)\n",
    "\n",
    "# Identify nearest city for each lat, lng combination\n",
    "for lat_lng in lat_lngs:\n",
    "    city = citipy.nearest_city(lat_lng[0], lat_lng[1]).city_name\n",
    "    \n",
    "    # If the city is unique, then add it to a our cities list\n",
    "    if city not in cities:\n",
    "        cities.append(city)\n",
    "\n",
    "# Print the city count to confirm sufficient count\n",
    "len(cities)"
   ]
  },
  {
   "cell_type": "markdown",
   "metadata": {},
   "source": [
    "### Perform API Calls\n",
    "* Perform a weather check on each city using a series of successive API calls.\n",
    "* Include a print log of each city as it'sbeing processed (with the city number and city name).\n"
   ]
  },
  {
   "cell_type": "code",
   "execution_count": 37,
   "metadata": {},
   "outputs": [],
   "source": [
    "#set url\n",
    "weather_url=f\"http://api.openweathermap.org/data/2.5/weather?units=imperial&appid={weather_api_key}&q=\"\n"
   ]
  },
  {
   "cell_type": "code",
   "execution_count": 38,
   "metadata": {},
   "outputs": [
    {
     "name": "stdout",
     "output_type": "stream",
     "text": [
      "Processing Record 1 of Set 1 | bluff\n",
      "Processing Record 2 of Set 1 | upernavik\n",
      "This city is unavailable. Proceeding.....\n",
      "Processing Record 3 of Set 1 | hamilton\n",
      "Processing Record 4 of Set 1 | tasiilaq\n",
      "Processing Record 5 of Set 1 | busselton\n",
      "Processing Record 6 of Set 1 | new norfolk\n",
      "Processing Record 7 of Set 1 | hilo\n",
      "Processing Record 8 of Set 1 | esmeraldas\n",
      "Processing Record 9 of Set 1 | talnakh\n",
      "Processing Record 10 of Set 1 | victoria\n",
      "Processing Record 11 of Set 1 | yerbogachen\n",
      "Processing Record 12 of Set 1 | veraval\n",
      "Processing Record 13 of Set 1 | robertsport\n",
      "Processing Record 14 of Set 1 | punta arenas\n",
      "Processing Record 15 of Set 1 | tuktoyaktuk\n",
      "Processing Record 16 of Set 1 | narasannapeta\n",
      "Processing Record 17 of Set 1 | saryozek\n",
      "This city is unavailable. Proceeding.....\n",
      "Processing Record 18 of Set 1 | saint-philippe\n",
      "Processing Record 19 of Set 1 | georgetown\n",
      "Processing Record 20 of Set 1 | payo\n",
      "This city is unavailable. Proceeding.....\n",
      "This city is unavailable. Proceeding.....\n",
      "Processing Record 21 of Set 1 | jiblah\n",
      "Processing Record 22 of Set 1 | barrow\n",
      "Processing Record 23 of Set 1 | beringovskiy\n",
      "Processing Record 24 of Set 1 | cape town\n",
      "Processing Record 25 of Set 1 | kodiak\n",
      "Processing Record 26 of Set 1 | esperance\n",
      "Processing Record 27 of Set 1 | cabo san lucas\n",
      "Processing Record 28 of Set 1 | nikolskoye\n",
      "This city is unavailable. Proceeding.....\n",
      "Processing Record 29 of Set 1 | necochea\n",
      "Processing Record 30 of Set 1 | bredasdorp\n",
      "Processing Record 31 of Set 1 | yumen\n",
      "Processing Record 32 of Set 1 | ushuaia\n",
      "This city is unavailable. Proceeding.....\n",
      "Processing Record 33 of Set 1 | mvomero\n",
      "Processing Record 34 of Set 1 | tuatapere\n",
      "Processing Record 35 of Set 1 | leh\n",
      "Processing Record 36 of Set 1 | east london\n",
      "Processing Record 37 of Set 1 | yabrud\n",
      "Processing Record 38 of Set 1 | ban dung\n",
      "Processing Record 39 of Set 1 | ossora\n",
      "Processing Record 40 of Set 1 | atuona\n",
      "Processing Record 41 of Set 1 | mezen\n",
      "Processing Record 42 of Set 1 | bengkulu\n",
      "Processing Record 43 of Set 1 | puerto ayora\n",
      "Processing Record 44 of Set 1 | hobart\n",
      "This city is unavailable. Proceeding.....\n",
      "Processing Record 45 of Set 1 | kuandian\n",
      "Processing Record 46 of Set 1 | mataura\n",
      "Processing Record 47 of Set 1 | erzin\n",
      "Processing Record 48 of Set 1 | ilulissat\n",
      "Processing Record 49 of Set 1 | lagoa\n",
      "Processing Record 1 of Set 2 | port alfred\n",
      "Processing Record 2 of Set 2 | mehamn\n",
      "Processing Record 3 of Set 2 | butaritari\n",
      "Processing Record 4 of Set 2 | nanakuli\n",
      "Processing Record 5 of Set 2 | chapais\n",
      "Processing Record 6 of Set 2 | rikitea\n",
      "Processing Record 7 of Set 2 | richards bay\n",
      "Processing Record 8 of Set 2 | pevek\n",
      "This city is unavailable. Proceeding.....\n",
      "Processing Record 9 of Set 2 | mar del plata\n",
      "Processing Record 10 of Set 2 | chuy\n",
      "Processing Record 11 of Set 2 | yellowknife\n",
      "Processing Record 12 of Set 2 | moses lake\n",
      "Processing Record 13 of Set 2 | eskisehir\n",
      "This city is unavailable. Proceeding.....\n",
      "Processing Record 14 of Set 2 | avarua\n",
      "Processing Record 15 of Set 2 | lyaskelya\n",
      "This city is unavailable. Proceeding.....\n",
      "Processing Record 16 of Set 2 | rawson\n",
      "Processing Record 17 of Set 2 | sunland park\n",
      "Processing Record 18 of Set 2 | kaitangata\n",
      "Processing Record 19 of Set 2 | cherskiy\n",
      "Processing Record 20 of Set 2 | mangai\n",
      "Processing Record 21 of Set 2 | xinzhou\n",
      "Processing Record 22 of Set 2 | caravelas\n",
      "This city is unavailable. Proceeding.....\n",
      "Processing Record 23 of Set 2 | pisco\n",
      "Processing Record 24 of Set 2 | pedasi\n",
      "Processing Record 25 of Set 2 | buraydah\n",
      "Processing Record 26 of Set 2 | qaanaaq\n",
      "Processing Record 27 of Set 2 | nanchang\n",
      "Processing Record 28 of Set 2 | pakala\n",
      "Processing Record 29 of Set 2 | port keats\n",
      "Processing Record 30 of Set 2 | ornskoldsvik\n",
      "This city is unavailable. Proceeding.....\n",
      "Processing Record 31 of Set 2 | kruisfontein\n",
      "Processing Record 32 of Set 2 | san vicente\n",
      "Processing Record 33 of Set 2 | mys shmidta\n",
      "Processing Record 34 of Set 2 | chumikan\n",
      "Processing Record 35 of Set 2 | ribeira grande\n",
      "Processing Record 36 of Set 2 | saint-pierre\n",
      "Processing Record 37 of Set 2 | carmaux\n",
      "This city is unavailable. Proceeding.....\n",
      "This city is unavailable. Proceeding.....\n",
      "Processing Record 38 of Set 2 | yaan\n",
      "Processing Record 39 of Set 2 | faanui\n",
      "Processing Record 40 of Set 2 | katobu\n",
      "This city is unavailable. Proceeding.....\n",
      "Processing Record 41 of Set 2 | tshikapa\n",
      "This city is unavailable. Proceeding.....\n",
      "Processing Record 42 of Set 2 | bambous virieux\n",
      "Processing Record 43 of Set 2 | hithadhoo\n",
      "Processing Record 44 of Set 2 | crixas\n",
      "Processing Record 45 of Set 2 | ahipara\n",
      "Processing Record 46 of Set 2 | aykhal\n",
      "This city is unavailable. Proceeding.....\n",
      "Processing Record 47 of Set 2 | husavik\n",
      "Processing Record 48 of Set 2 | vaini\n",
      "Processing Record 49 of Set 2 | ternate\n",
      "This city is unavailable. Proceeding.....\n",
      "Processing Record 1 of Set 3 | albany\n",
      "Processing Record 2 of Set 3 | haukipudas\n",
      "This city is unavailable. Proceeding.....\n",
      "Processing Record 3 of Set 3 | kapaa\n",
      "Processing Record 4 of Set 3 | castro\n",
      "Processing Record 5 of Set 3 | hofn\n",
      "Processing Record 6 of Set 3 | hermanus\n",
      "Processing Record 7 of Set 3 | chardara\n",
      "This city is unavailable. Proceeding.....\n",
      "Processing Record 8 of Set 3 | dunedin\n",
      "Processing Record 9 of Set 3 | paraiso\n",
      "Processing Record 10 of Set 3 | constitucion\n",
      "Processing Record 11 of Set 3 | port blair\n",
      "Processing Record 12 of Set 3 | grand river south east\n",
      "Processing Record 13 of Set 3 | sioux lookout\n",
      "Processing Record 14 of Set 3 | nanortalik\n",
      "This city is unavailable. Proceeding.....\n",
      "Processing Record 15 of Set 3 | lebu\n",
      "This city is unavailable. Proceeding.....\n",
      "Processing Record 16 of Set 3 | margate\n",
      "Processing Record 17 of Set 3 | grand gaube\n",
      "Processing Record 18 of Set 3 | norman wells\n",
      "Processing Record 19 of Set 3 | mayo\n",
      "Processing Record 20 of Set 3 | akhtubinsk\n",
      "Processing Record 21 of Set 3 | siniscola\n",
      "Processing Record 22 of Set 3 | jamestown\n",
      "Processing Record 23 of Set 3 | cidreira\n",
      "Processing Record 24 of Set 3 | sladkovo\n",
      "Processing Record 25 of Set 3 | cedar city\n",
      "This city is unavailable. Proceeding.....\n",
      "Processing Record 26 of Set 3 | kudahuvadhoo\n",
      "Processing Record 27 of Set 3 | pitimbu\n",
      "Processing Record 28 of Set 3 | chokurdakh\n",
      "Processing Record 29 of Set 3 | saurimo\n",
      "This city is unavailable. Proceeding.....\n",
      "Processing Record 30 of Set 3 | udachnyy\n",
      "Processing Record 31 of Set 3 | thessalon\n",
      "Processing Record 32 of Set 3 | isiolo\n",
      "Processing Record 33 of Set 3 | saint-francois\n",
      "Processing Record 34 of Set 3 | ocampo\n",
      "Processing Record 35 of Set 3 | kamariotissa\n",
      "Processing Record 36 of Set 3 | muriti\n",
      "Processing Record 37 of Set 3 | banepa\n",
      "Processing Record 38 of Set 3 | nizwa\n",
      "Processing Record 39 of Set 3 | thompson\n",
      "Processing Record 40 of Set 3 | ginir\n",
      "Processing Record 41 of Set 3 | trat\n",
      "Processing Record 42 of Set 3 | coldingham\n",
      "Processing Record 43 of Set 3 | airai\n",
      "Processing Record 44 of Set 3 | grindavik\n",
      "Processing Record 45 of Set 3 | torbay\n",
      "This city is unavailable. Proceeding.....\n",
      "Processing Record 46 of Set 3 | coihaique\n",
      "Processing Record 47 of Set 3 | sinnamary\n",
      "This city is unavailable. Proceeding.....\n",
      "Processing Record 48 of Set 3 | mineiros\n",
      "Processing Record 49 of Set 3 | khatanga\n",
      "Processing Record 1 of Set 4 | rosetta\n",
      "Processing Record 2 of Set 4 | andenes\n",
      "Processing Record 3 of Set 4 | zaysan\n",
      "Processing Record 4 of Set 4 | talavera\n",
      "Processing Record 5 of Set 4 | coquimbo\n",
      "Processing Record 6 of Set 4 | souillac\n",
      "Processing Record 7 of Set 4 | guerrero negro\n",
      "Processing Record 8 of Set 4 | kavieng\n",
      "Processing Record 9 of Set 4 | filingue\n",
      "Processing Record 10 of Set 4 | mount isa\n",
      "Processing Record 11 of Set 4 | carnarvon\n",
      "Processing Record 12 of Set 4 | arkansas city\n",
      "Processing Record 13 of Set 4 | zaranj\n",
      "Processing Record 14 of Set 4 | hasaki\n",
      "Processing Record 15 of Set 4 | antofagasta\n",
      "Processing Record 16 of Set 4 | sao joao da barra\n",
      "This city is unavailable. Proceeding.....\n",
      "Processing Record 17 of Set 4 | tahe\n",
      "Processing Record 18 of Set 4 | kastamonu\n",
      "Processing Record 19 of Set 4 | manavalakurichi\n",
      "Processing Record 20 of Set 4 | luderitz\n",
      "Processing Record 21 of Set 4 | bagotville\n",
      "Processing Record 22 of Set 4 | mogadishu\n",
      "Processing Record 23 of Set 4 | nola\n",
      "Processing Record 24 of Set 4 | severo-kurilsk\n",
      "Processing Record 25 of Set 4 | senador jose porfirio\n",
      "This city is unavailable. Proceeding.....\n"
     ]
    },
    {
     "name": "stdout",
     "output_type": "stream",
     "text": [
      "Processing Record 26 of Set 4 | bodden town\n",
      "This city is unavailable. Proceeding.....\n",
      "This city is unavailable. Proceeding.....\n",
      "Processing Record 27 of Set 4 | trairi\n",
      "Processing Record 28 of Set 4 | paita\n",
      "Processing Record 29 of Set 4 | port hardy\n",
      "This city is unavailable. Proceeding.....\n",
      "Processing Record 30 of Set 4 | santa cruz\n",
      "Processing Record 31 of Set 4 | abbeville\n",
      "Processing Record 32 of Set 4 | nantucket\n",
      "Processing Record 33 of Set 4 | salihorsk\n",
      "Processing Record 34 of Set 4 | emba\n",
      "Processing Record 35 of Set 4 | jumla\n",
      "Processing Record 36 of Set 4 | mahanoro\n",
      "Processing Record 37 of Set 4 | longyearbyen\n",
      "Processing Record 38 of Set 4 | pangnirtung\n",
      "Processing Record 39 of Set 4 | srednekolymsk\n",
      "This city is unavailable. Proceeding.....\n",
      "Processing Record 40 of Set 4 | mackay\n",
      "Processing Record 41 of Set 4 | maceio\n",
      "Processing Record 42 of Set 4 | karlskrona\n",
      "Processing Record 43 of Set 4 | cairns\n",
      "Processing Record 44 of Set 4 | murgab\n",
      "Processing Record 45 of Set 4 | cruzeiro do sul\n",
      "Processing Record 46 of Set 4 | beloha\n",
      "Processing Record 47 of Set 4 | ponta do sol\n",
      "Processing Record 48 of Set 4 | saldanha\n",
      "Processing Record 49 of Set 4 | kuala terengganu\n",
      "Processing Record 1 of Set 5 | aklavik\n",
      "Processing Record 2 of Set 5 | guarapari\n",
      "Processing Record 3 of Set 5 | ortakoy\n",
      "Processing Record 4 of Set 5 | mumford\n",
      "Processing Record 5 of Set 5 | riachao do dantas\n",
      "Processing Record 6 of Set 5 | lorengau\n",
      "Processing Record 7 of Set 5 | black forest\n",
      "Processing Record 8 of Set 5 | mitsamiouli\n",
      "Processing Record 9 of Set 5 | olga\n",
      "Processing Record 10 of Set 5 | sitka\n",
      "Processing Record 11 of Set 5 | ignalina\n",
      "Processing Record 12 of Set 5 | riyadh\n",
      "Processing Record 13 of Set 5 | coahuayana\n",
      "Processing Record 14 of Set 5 | zonguldak\n",
      "Processing Record 15 of Set 5 | hovd\n",
      "Processing Record 16 of Set 5 | dikson\n",
      "Processing Record 17 of Set 5 | mandurah\n",
      "This city is unavailable. Proceeding.....\n",
      "Processing Record 18 of Set 5 | krasnoselkup\n",
      "Processing Record 19 of Set 5 | kargopol\n",
      "Processing Record 20 of Set 5 | naron\n",
      "Processing Record 21 of Set 5 | pimentel\n",
      "Processing Record 22 of Set 5 | kloulklubed\n",
      "Processing Record 23 of Set 5 | bandipur\n",
      "Processing Record 24 of Set 5 | sao filipe\n",
      "Processing Record 25 of Set 5 | tonantins\n",
      "Processing Record 26 of Set 5 | bubaque\n",
      "Processing Record 27 of Set 5 | cockburn town\n",
      "Processing Record 28 of Set 5 | nanlong\n",
      "Processing Record 29 of Set 5 | byron bay\n",
      "Processing Record 30 of Set 5 | wladyslawowo\n",
      "Processing Record 31 of Set 5 | pyatovskiy\n",
      "Processing Record 32 of Set 5 | yantal\n",
      "Processing Record 33 of Set 5 | braganca paulista\n",
      "Processing Record 34 of Set 5 | avera\n",
      "Processing Record 35 of Set 5 | kharovsk\n",
      "Processing Record 36 of Set 5 | marsh harbour\n",
      "Processing Record 37 of Set 5 | nichinan\n",
      "Processing Record 38 of Set 5 | koppies\n",
      "Processing Record 39 of Set 5 | lahaina\n",
      "Processing Record 40 of Set 5 | itarema\n",
      "This city is unavailable. Proceeding.....\n",
      "Processing Record 41 of Set 5 | clyde river\n",
      "Processing Record 42 of Set 5 | mizdah\n",
      "Processing Record 43 of Set 5 | morrope\n",
      "Processing Record 44 of Set 5 | agropoli\n",
      "Processing Record 45 of Set 5 | geraldton\n",
      "Processing Record 46 of Set 5 | neyshabur\n",
      "This city is unavailable. Proceeding.....\n",
      "This city is unavailable. Proceeding.....\n",
      "Processing Record 47 of Set 5 | high rock\n",
      "Processing Record 48 of Set 5 | olafsvik\n",
      "This city is unavailable. Proceeding.....\n",
      "Processing Record 49 of Set 5 | port elizabeth\n",
      "Processing Record 1 of Set 6 | ushtobe\n",
      "Processing Record 2 of Set 6 | hailin\n",
      "Processing Record 3 of Set 6 | humboldt\n",
      "Processing Record 4 of Set 6 | ostrovnoy\n",
      "Processing Record 5 of Set 6 | ometepec\n",
      "This city is unavailable. Proceeding.....\n",
      "Processing Record 6 of Set 6 | san patricio\n",
      "Processing Record 7 of Set 6 | saint-augustin\n",
      "Processing Record 8 of Set 6 | bonavista\n",
      "Processing Record 9 of Set 6 | montana\n",
      "Processing Record 10 of Set 6 | hailun\n",
      "Processing Record 11 of Set 6 | nemuro\n",
      "Processing Record 12 of Set 6 | sorland\n",
      "Processing Record 13 of Set 6 | ozernovskiy\n",
      "Processing Record 14 of Set 6 | vila velha\n",
      "Processing Record 15 of Set 6 | naze\n",
      "Processing Record 16 of Set 6 | iqaluit\n",
      "Processing Record 17 of Set 6 | salalah\n",
      "Processing Record 18 of Set 6 | pasighat\n",
      "Processing Record 19 of Set 6 | gao\n",
      "Processing Record 20 of Set 6 | killam\n",
      "Processing Record 21 of Set 6 | zlitan\n",
      "Processing Record 22 of Set 6 | khandyga\n",
      "Processing Record 23 of Set 6 | nago\n",
      "Processing Record 24 of Set 6 | talas\n",
      "Processing Record 25 of Set 6 | olavarria\n",
      "Processing Record 26 of Set 6 | narsaq\n",
      "Processing Record 27 of Set 6 | sinegorskiy\n",
      "Processing Record 28 of Set 6 | half moon bay\n",
      "Processing Record 29 of Set 6 | charlestown\n",
      "Processing Record 30 of Set 6 | bathsheba\n",
      "Processing Record 31 of Set 6 | leningradskiy\n",
      "Processing Record 32 of Set 6 | palencia\n",
      "Processing Record 33 of Set 6 | nyurba\n",
      "Processing Record 34 of Set 6 | seymchan\n",
      "Processing Record 35 of Set 6 | toamasina\n",
      "Processing Record 36 of Set 6 | aasiaat\n",
      "Processing Record 37 of Set 6 | tremedal\n",
      "Processing Record 38 of Set 6 | chimore\n",
      "This city is unavailable. Proceeding.....\n",
      "Processing Record 39 of Set 6 | ratnagiri\n",
      "Processing Record 40 of Set 6 | nishihara\n",
      "Processing Record 41 of Set 6 | nabire\n",
      "Processing Record 42 of Set 6 | qui nhon\n",
      "Processing Record 43 of Set 6 | agirish\n",
      "Processing Record 44 of Set 6 | santa isabel do rio negro\n",
      "Processing Record 45 of Set 6 | hammerfest\n",
      "This city is unavailable. Proceeding.....\n",
      "Processing Record 46 of Set 6 | chipata\n",
      "Processing Record 47 of Set 6 | nagornyy\n",
      "Processing Record 48 of Set 6 | merauke\n",
      "Processing Record 49 of Set 6 | zapolyarnyy\n",
      "Processing Record 1 of Set 7 | miri\n",
      "Processing Record 2 of Set 7 | sedkyrkeshch\n",
      "Processing Record 3 of Set 7 | sinazongwe\n",
      "Processing Record 4 of Set 7 | eyl\n",
      "Processing Record 5 of Set 7 | taltal\n",
      "This city is unavailable. Proceeding.....\n",
      "Processing Record 6 of Set 7 | batangafo\n",
      "This city is unavailable. Proceeding.....\n",
      "Processing Record 7 of Set 7 | alofi\n",
      "Processing Record 8 of Set 7 | dingle\n",
      "Processing Record 9 of Set 7 | saskylakh\n",
      "Processing Record 10 of Set 7 | kununurra\n",
      "Processing Record 11 of Set 7 | aden\n",
      "Processing Record 12 of Set 7 | bilibino\n",
      "Processing Record 13 of Set 7 | maralal\n",
      "Processing Record 14 of Set 7 | meulaboh\n",
      "Processing Record 15 of Set 7 | sawtell\n",
      "Processing Record 16 of Set 7 | port hedland\n",
      "Processing Record 17 of Set 7 | impfondo\n",
      "Processing Record 18 of Set 7 | kumluca\n",
      "This city is unavailable. Proceeding.....\n",
      "Processing Record 19 of Set 7 | porto novo\n",
      "Processing Record 20 of Set 7 | farap\n",
      "Processing Record 21 of Set 7 | taoudenni\n",
      "Processing Record 22 of Set 7 | changde\n",
      "This city is unavailable. Proceeding.....\n",
      "Processing Record 23 of Set 7 | podporozhye\n",
      "Processing Record 24 of Set 7 | skokovi\n",
      "Processing Record 25 of Set 7 | lompoc\n",
      "This city is unavailable. Proceeding.....\n",
      "Processing Record 26 of Set 7 | senneterre\n",
      "Processing Record 27 of Set 7 | karratha\n",
      "Processing Record 28 of Set 7 | bull savanna\n",
      "Processing Record 29 of Set 7 | seoul\n",
      "Processing Record 30 of Set 7 | buala\n",
      "This city is unavailable. Proceeding.....\n",
      "Processing Record 31 of Set 7 | koslan\n",
      "Processing Record 32 of Set 7 | khorixas\n",
      "Processing Record 33 of Set 7 | arteaga\n",
      "Processing Record 34 of Set 7 | ancud\n",
      "Processing Record 35 of Set 7 | padang\n",
      "Processing Record 36 of Set 7 | tirau\n",
      "Processing Record 37 of Set 7 | glen allen\n",
      "This city is unavailable. Proceeding.....\n",
      "Processing Record 38 of Set 7 | labuhan\n",
      "This city is unavailable. Proceeding.....\n",
      "Processing Record 39 of Set 7 | katsuura\n",
      "This city is unavailable. Proceeding.....\n",
      "Processing Record 40 of Set 7 | sistranda\n",
      "Processing Record 41 of Set 7 | pinega\n",
      "Processing Record 42 of Set 7 | ust-karsk\n",
      "Processing Record 43 of Set 7 | kaohsiung\n",
      "Processing Record 44 of Set 7 | kapra\n",
      "Processing Record 45 of Set 7 | tongren\n",
      "Processing Record 46 of Set 7 | havoysund\n",
      "Processing Record 47 of Set 7 | whakatane\n",
      "Processing Record 48 of Set 7 | callaguip\n",
      "Processing Record 49 of Set 7 | orocue\n",
      "Processing Record 1 of Set 8 | eureka\n",
      "Processing Record 2 of Set 8 | arraial do cabo\n",
      "Processing Record 3 of Set 8 | semey\n",
      "Processing Record 4 of Set 8 | lata\n",
      "This city is unavailable. Proceeding.....\n",
      "Processing Record 5 of Set 8 | kuruman\n",
      "Processing Record 6 of Set 8 | bud\n",
      "This city is unavailable. Proceeding.....\n"
     ]
    },
    {
     "name": "stdout",
     "output_type": "stream",
     "text": [
      "Processing Record 7 of Set 8 | miranda\n",
      "Processing Record 8 of Set 8 | kahului\n",
      "Processing Record 9 of Set 8 | san pedro\n",
      "This city is unavailable. Proceeding.....\n",
      "Processing Record 10 of Set 8 | mulchen\n",
      "Processing Record 11 of Set 8 | balkanabat\n",
      "Processing Record 12 of Set 8 | deputatskiy\n",
      "Processing Record 13 of Set 8 | bethel\n",
      "Processing Record 14 of Set 8 | hay river\n",
      "Processing Record 15 of Set 8 | makurdi\n",
      "Processing Record 16 of Set 8 | boueni\n",
      "Processing Record 17 of Set 8 | along\n",
      "Processing Record 18 of Set 8 | plettenberg bay\n",
      "Processing Record 19 of Set 8 | kavaratti\n",
      "This city is unavailable. Proceeding.....\n",
      "Processing Record 20 of Set 8 | copiapo\n",
      "Processing Record 21 of Set 8 | port lincoln\n",
      "This city is unavailable. Proceeding.....\n",
      "Processing Record 22 of Set 8 | praia da vitoria\n",
      "Processing Record 23 of Set 8 | russell\n",
      "Processing Record 24 of Set 8 | brae\n",
      "Processing Record 25 of Set 8 | gat\n",
      "This city is unavailable. Proceeding.....\n",
      "Processing Record 26 of Set 8 | adrar\n",
      "Processing Record 27 of Set 8 | matara\n",
      "Processing Record 28 of Set 8 | berlevag\n",
      "Processing Record 29 of Set 8 | aviles\n",
      "Processing Record 30 of Set 8 | bembereke\n",
      "Processing Record 31 of Set 8 | novooleksiyivka\n",
      "Processing Record 32 of Set 8 | provideniya\n",
      "Processing Record 33 of Set 8 | vaitape\n",
      "Processing Record 34 of Set 8 | carlyle\n",
      "This city is unavailable. Proceeding.....\n",
      "This city is unavailable. Proceeding.....\n",
      "Processing Record 35 of Set 8 | burns lake\n",
      "Processing Record 36 of Set 8 | hohhot\n",
      "Processing Record 37 of Set 8 | achacachi\n",
      "Processing Record 38 of Set 8 | shelburne\n",
      "Processing Record 39 of Set 8 | kalabo\n",
      "Processing Record 40 of Set 8 | touros\n",
      "Processing Record 41 of Set 8 | hong gai\n",
      "Processing Record 42 of Set 8 | port hawkesbury\n",
      "Processing Record 43 of Set 8 | cascais\n",
      "Processing Record 44 of Set 8 | namibe\n",
      "This city is unavailable. Proceeding.....\n",
      "Processing Record 45 of Set 8 | marzuq\n",
      "Processing Record 46 of Set 8 | fukuma\n",
      "Processing Record 47 of Set 8 | luau\n",
      "Processing Record 48 of Set 8 | ganzhou\n",
      "Processing Record 49 of Set 8 | warmbad\n",
      "This city is unavailable. Proceeding.....\n",
      "Processing Record 1 of Set 9 | baturaja\n",
      "Processing Record 2 of Set 9 | shimoda\n",
      "This city is unavailable. Proceeding.....\n",
      "Processing Record 3 of Set 9 | altay\n",
      "Processing Record 4 of Set 9 | baghdad\n",
      "Processing Record 5 of Set 9 | saint-joseph\n",
      "Processing Record 6 of Set 9 | jiwani\n",
      "Processing Record 7 of Set 9 | zheleznogorsk\n",
      "Processing Record 8 of Set 9 | noumea\n",
      "Processing Record 9 of Set 9 | san quintin\n",
      "Processing Record 10 of Set 9 | saint-louis\n",
      "Processing Record 11 of Set 9 | lipin bor\n",
      "Processing Record 12 of Set 9 | lesnoye\n",
      "Processing Record 13 of Set 9 | panama city\n",
      "Processing Record 14 of Set 9 | vuktyl\n",
      "Processing Record 15 of Set 9 | bimbo\n",
      "Processing Record 16 of Set 9 | tezu\n",
      "This city is unavailable. Proceeding.....\n",
      "Processing Record 17 of Set 9 | ukiah\n",
      "Processing Record 18 of Set 9 | tartagal\n",
      "Processing Record 19 of Set 9 | yichang\n",
      "Processing Record 20 of Set 9 | jalu\n",
      "Processing Record 21 of Set 9 | panaba\n",
      "Processing Record 22 of Set 9 | mgachi\n",
      "Processing Record 23 of Set 9 | pemba\n",
      "Processing Record 24 of Set 9 | yarmouth\n",
      "Processing Record 25 of Set 9 | martinez\n",
      "Processing Record 26 of Set 9 | ixtapa\n",
      "Processing Record 27 of Set 9 | klaksvik\n",
      "Processing Record 28 of Set 9 | bogorodskoye\n",
      "Processing Record 29 of Set 9 | tiznit\n",
      "This city is unavailable. Proceeding.....\n",
      "Processing Record 30 of Set 9 | kapoeta\n",
      "Processing Record 31 of Set 9 | ahuimanu\n",
      "Processing Record 32 of Set 9 | santiago\n",
      "This city is unavailable. Proceeding.....\n",
      "Processing Record 33 of Set 9 | posse\n",
      "Processing Record 34 of Set 9 | mahebourg\n",
      "Processing Record 35 of Set 9 | key west\n",
      "Processing Record 36 of Set 9 | pechenga\n",
      "Processing Record 37 of Set 9 | zabol\n",
      "Processing Record 38 of Set 9 | ambovombe\n",
      "Processing Record 39 of Set 9 | antequera\n",
      "Processing Record 40 of Set 9 | katav-ivanovsk\n",
      "Processing Record 41 of Set 9 | whitehorse\n",
      "Processing Record 42 of Set 9 | kirakira\n",
      "Processing Record 43 of Set 9 | fairbanks\n",
      "Processing Record 44 of Set 9 | port arthur\n",
      "Processing Record 45 of Set 9 | goure\n",
      "This city is unavailable. Proceeding.....\n",
      "Processing Record 46 of Set 9 | ceres\n",
      "Processing Record 47 of Set 9 | isangel\n",
      "Processing Record 48 of Set 9 | layou\n",
      "This city is unavailable. Proceeding.....\n",
      "Processing Record 49 of Set 9 | komsomolskiy\n",
      "Processing Record 1 of Set 10 | hamme\n",
      "Processing Record 2 of Set 10 | catamarca\n",
      "This city is unavailable. Proceeding.....\n",
      "Processing Record 3 of Set 10 | morros\n",
      "This city is unavailable. Proceeding.....\n",
      "Processing Record 4 of Set 10 | sakakah\n",
      "This city is unavailable. Proceeding.....\n",
      "Processing Record 5 of Set 10 | ulaangom\n",
      "Processing Record 6 of Set 10 | vao\n",
      "Processing Record 7 of Set 10 | litoral del san juan\n",
      "Processing Record 8 of Set 10 | alyangula\n",
      "Processing Record 9 of Set 10 | biak\n",
      "Processing Record 10 of Set 10 | camacha\n",
      "Processing Record 11 of Set 10 | inhambane\n",
      "Processing Record 12 of Set 10 | manzhouli\n",
      "Processing Record 13 of Set 10 | hami\n",
      "Processing Record 14 of Set 10 | auki\n",
      "Processing Record 15 of Set 10 | freeport\n",
      "This city is unavailable. Proceeding.....\n",
      "Processing Record 16 of Set 10 | bayir\n",
      "Processing Record 17 of Set 10 | zlobin\n",
      "Processing Record 18 of Set 10 | anadyr\n",
      "Processing Record 19 of Set 10 | azovo\n",
      "Processing Record 20 of Set 10 | shar\n",
      "Processing Record 21 of Set 10 | verkhoyansk\n",
      "Processing Record 22 of Set 10 | najran\n",
      "Processing Record 23 of Set 10 | beitbridge\n",
      "Processing Record 24 of Set 10 | tecoanapa\n",
      "This city is unavailable. Proceeding.....\n",
      "Processing Record 25 of Set 10 | payette\n",
      "This city is unavailable. Proceeding.....\n",
      "Processing Record 26 of Set 10 | kovur\n",
      "Processing Record 27 of Set 10 | klamath falls\n",
      "Processing Record 28 of Set 10 | kisangani\n",
      "This city is unavailable. Proceeding.....\n",
      "Processing Record 29 of Set 10 | noyabrsk\n",
      "Processing Record 30 of Set 10 | sawakin\n",
      "Processing Record 31 of Set 10 | grammichele\n",
      "Processing Record 32 of Set 10 | kargil\n",
      "Processing Record 33 of Set 10 | moose jaw\n",
      "Processing Record 34 of Set 10 | sibenik\n",
      "Processing Record 35 of Set 10 | weligama\n",
      "Processing Record 36 of Set 10 | aki\n",
      "Processing Record 37 of Set 10 | gorodovikovsk\n",
      "Processing Record 38 of Set 10 | konya\n",
      "Processing Record 39 of Set 10 | punta de bombon\n",
      "Processing Record 40 of Set 10 | okitipupa\n",
      "This city is unavailable. Proceeding.....\n",
      "Processing Record 41 of Set 10 | griffith\n",
      "This city is unavailable. Proceeding.....\n",
      "Processing Record 42 of Set 10 | devonport\n",
      "Processing Record 43 of Set 10 | bundaberg\n",
      "Processing Record 44 of Set 10 | mahon\n",
      "Processing Record 45 of Set 10 | yuli\n",
      "Processing Record 46 of Set 10 | pouebo\n",
      "Processing Record 47 of Set 10 | codrington\n",
      "Processing Record 48 of Set 10 | bereda\n",
      "Processing Record 49 of Set 10 | tallahassee\n",
      "Processing Record 1 of Set 11 | tingo maria\n",
      "Processing Record 2 of Set 11 | honningsvag\n",
      "Processing Record 3 of Set 11 | cibitoke\n",
      "Processing Record 4 of Set 11 | tombouctou\n",
      "Processing Record 5 of Set 11 | goderich\n",
      "This city is unavailable. Proceeding.....\n",
      "Processing Record 6 of Set 11 | tiksi\n",
      "Processing Record 7 of Set 11 | aranos\n",
      "Processing Record 8 of Set 11 | oriximina\n",
      "Processing Record 9 of Set 11 | swan river\n",
      "This city is unavailable. Proceeding.....\n",
      "Processing Record 10 of Set 11 | pafos\n",
      "Processing Record 11 of Set 11 | paamiut\n",
      "Processing Record 12 of Set 11 | cayenne\n",
      "Processing Record 13 of Set 11 | daru\n",
      "Processing Record 14 of Set 11 | skibbereen\n",
      "Processing Record 15 of Set 11 | santiago del estero\n",
      "Processing Record 16 of Set 11 | luanda\n",
      "Processing Record 17 of Set 11 | pelym\n",
      "Processing Record 18 of Set 11 | togur\n",
      "Processing Record 19 of Set 11 | gaogou\n",
      "This city is unavailable. Proceeding.....\n",
      "Processing Record 20 of Set 11 | howard springs\n",
      "Processing Record 21 of Set 11 | kampot\n",
      "Processing Record 22 of Set 11 | hanzhong\n",
      "Processing Record 23 of Set 11 | west wendover\n",
      "Processing Record 24 of Set 11 | ust-maya\n",
      "Processing Record 25 of Set 11 | minot\n",
      "Processing Record 26 of Set 11 | capinota\n",
      "This city is unavailable. Proceeding.....\n",
      "Processing Record 27 of Set 11 | awbari\n",
      "Processing Record 28 of Set 11 | asau\n",
      "Processing Record 29 of Set 11 | issaquah\n",
      "Processing Record 30 of Set 11 | chuchkovo\n",
      "Processing Record 31 of Set 11 | aksarka\n",
      "Processing Record 32 of Set 11 | lusambo\n"
     ]
    },
    {
     "name": "stdout",
     "output_type": "stream",
     "text": [
      "Processing Record 33 of Set 11 | maldonado\n",
      "Processing Record 34 of Set 11 | kyela\n",
      "This city is unavailable. Proceeding.....\n",
      "Processing Record 35 of Set 11 | puerto leguizamo\n",
      "Processing Record 36 of Set 11 | morant bay\n",
      "Processing Record 37 of Set 11 | galle\n",
      "Processing Record 38 of Set 11 | kaseda\n",
      "This city is unavailable. Proceeding.....\n",
      "Processing Record 39 of Set 11 | rebrikha\n",
      "Processing Record 40 of Set 11 | lugovoy\n",
      "Processing Record 41 of Set 11 | yurimaguas\n",
      "Processing Record 42 of Set 11 | rakiv lis\n",
      "Processing Record 43 of Set 11 | swellendam\n",
      "Processing Record 44 of Set 11 | manokwari\n",
      "Processing Record 45 of Set 11 | tocopilla\n",
      "Processing Record 46 of Set 11 | vostok\n",
      "Processing Record 47 of Set 11 | ordu\n",
      "Processing Record 48 of Set 11 | launceston\n",
      "Processing Record 49 of Set 11 | jizan\n",
      "Processing Record 1 of Set 12 | mahendranagar\n",
      "Processing Record 2 of Set 12 | chifeng\n",
      "Processing Record 3 of Set 12 | anloga\n",
      "Processing Record 4 of Set 12 | monrovia\n",
      "Processing Record 5 of Set 12 | lasa\n",
      "Processing Record 6 of Set 12 | svetlogorsk\n",
      "Processing Record 7 of Set 12 | gravdal\n",
      "Processing Record 8 of Set 12 | marienburg\n",
      "Processing Record 9 of Set 12 | bauchi\n",
      "Processing Record 10 of Set 12 | ratne\n",
      "Processing Record 11 of Set 12 | nara\n",
      "This city is unavailable. Proceeding.....\n",
      "Processing Record 12 of Set 12 | tabas\n",
      "Processing Record 13 of Set 12 | bucyrus\n",
      "Processing Record 14 of Set 12 | buchanan\n",
      "Processing Record 15 of Set 12 | sao felix do xingu\n",
      "Processing Record 16 of Set 12 | rio gallegos\n",
      "Processing Record 17 of Set 12 | faya\n",
      "Processing Record 18 of Set 12 | burnie\n",
      "Processing Record 19 of Set 12 | laurens\n",
      "This city is unavailable. Proceeding.....\n",
      "Processing Record 20 of Set 12 | mahibadhoo\n",
      "Processing Record 21 of Set 12 | tadine\n",
      "Processing Record 22 of Set 12 | ayorou\n",
      "Processing Record 23 of Set 12 | majene\n",
      "Processing Record 24 of Set 12 | mount gambier\n",
      "Processing Record 25 of Set 12 | makakilo city\n",
      "Processing Record 26 of Set 12 | bongaree\n",
      "Processing Record 27 of Set 12 | breznice\n",
      "Processing Record 28 of Set 12 | xuanhua\n",
      "Processing Record 29 of Set 12 | ambalavao\n",
      "Processing Record 30 of Set 12 | nhulunbuy\n",
      "Processing Record 31 of Set 12 | leeton\n",
      "Processing Record 32 of Set 12 | dawlatabad\n",
      "Processing Record 33 of Set 12 | soyo\n",
      "Processing Record 34 of Set 12 | mongo\n",
      "Processing Record 35 of Set 12 | kaeo\n",
      "Processing Record 36 of Set 12 | castelbuono\n",
      "--------------------Call Done-----------\n"
     ]
    }
   ],
   "source": [
    "# set lists for the dataframe\n",
    "city_list = []\n",
    "cloudiness = []\n",
    "date = []\n",
    "humidity = []\n",
    "lat = []\n",
    "lon = []\n",
    "max_temp = []\n",
    "wind_speed = []\n",
    "country_list = []\n",
    "\n",
    "# set initial count quantities for organization\n",
    "counter = 0\n",
    "set_one = 1\n",
    "\n",
    "# loops for creating dataframe columns\n",
    "for city in cities:\n",
    "    try:\n",
    "        response = requests.get(weather_url + city.replace(\" \",\"&\")).json()\n",
    "        cloudiness.append(response['clouds']['all'])\n",
    "        country_list.append(response['sys']['country'])\n",
    "        date.append(response['dt'])\n",
    "        humidity.append(response['main']['humidity'])\n",
    "        lat.append(response['coord']['lat'])\n",
    "        lon.append(response['coord']['lon'])\n",
    "        max_temp.append(response['main']['temp_max'])\n",
    "        wind_speed.append(response['wind']['speed'])\n",
    "        if counter > 48:\n",
    "            counter = 1\n",
    "            set_one += 1\n",
    "            city_list.append(city)\n",
    "        else:\n",
    "            counter += 1\n",
    "            city_list.append(city)\n",
    "        print(f\"Processing Record {counter} of Set {set_one} | {city}\")\n",
    "    except Exception:\n",
    "        print(\"This city is unavailable. Proceeding.....\")\n",
    "print(\"--------------------Call Done-----------\")"
   ]
  },
  {
   "cell_type": "markdown",
   "metadata": {},
   "source": [
    "### Convert Raw Data to DataFrame\n",
    "* Export the city data into a .csv.\n",
    "* Display the DataFrame"
   ]
  },
  {
   "cell_type": "code",
   "execution_count": 5,
   "metadata": {
    "scrolled": false
   },
   "outputs": [
    {
     "ename": "NameError",
     "evalue": "name 'city_list' is not defined",
     "output_type": "error",
     "traceback": [
      "\u001b[1;31m---------------------------------------------------------------------------\u001b[0m",
      "\u001b[1;31mNameError\u001b[0m                                 Traceback (most recent call last)",
      "\u001b[1;32m<ipython-input-5-d7d757f0e6c7>\u001b[0m in \u001b[0;36m<module>\u001b[1;34m\u001b[0m\n\u001b[0;32m      1\u001b[0m \u001b[1;31m#Create the Data Frame\u001b[0m\u001b[1;33m\u001b[0m\u001b[1;33m\u001b[0m\u001b[1;33m\u001b[0m\u001b[0m\n\u001b[1;32m----> 2\u001b[1;33m weather_col={\"City\":city_list,\\\n\u001b[0m\u001b[0;32m      3\u001b[0m             \u001b[1;34m\"Lat\"\u001b[0m\u001b[1;33m:\u001b[0m\u001b[0mlat\u001b[0m\u001b[1;33m,\u001b[0m\u001b[0;31m\\\u001b[0m\u001b[1;33m\u001b[0m\u001b[1;33m\u001b[0m\u001b[0m\n\u001b[0;32m      4\u001b[0m             \u001b[1;34m\"Lng\"\u001b[0m\u001b[1;33m:\u001b[0m\u001b[0mlon\u001b[0m\u001b[1;33m,\u001b[0m\u001b[0;31m\\\u001b[0m\u001b[1;33m\u001b[0m\u001b[1;33m\u001b[0m\u001b[0m\n\u001b[0;32m      5\u001b[0m             \u001b[1;34m\"Max Temp\"\u001b[0m\u001b[1;33m:\u001b[0m\u001b[0mmax_temp\u001b[0m\u001b[1;33m,\u001b[0m\u001b[0;31m\\\u001b[0m\u001b[1;33m\u001b[0m\u001b[1;33m\u001b[0m\u001b[0m\n",
      "\u001b[1;31mNameError\u001b[0m: name 'city_list' is not defined"
     ]
    }
   ],
   "source": [
    "#Create the Data Frame\n",
    "weather_col={\"City\":city_list,\\\n",
    "            \"Lat\":lat,\\\n",
    "            \"Lng\":lon,\\\n",
    "            \"Max Temp\":max_temp,\\\n",
    "            \"Humidity\":humidity,\\\n",
    "            \"Cloudiness\":cloudiness,\\\n",
    "            \"Wind Speed\":wind_speed,\\\n",
    "            \"Country\":country_list,\\\n",
    "            \"Date\":date}\n",
    "\n",
    "weather_df=pd.DataFrame(weather_col)\n",
    "#Display the DataFrame:\n",
    "weather_df.head()\n"
   ]
  },
  {
   "cell_type": "code",
   "execution_count": 82,
   "metadata": {
    "scrolled": true
   },
   "outputs": [
    {
     "data": {
      "text/plain": [
       "City          575\n",
       "Lat           575\n",
       "Lng           575\n",
       "Max Temp      575\n",
       "Humidity      575\n",
       "Cloudiness    575\n",
       "Wind Speed    575\n",
       "Country       575\n",
       "Date          575\n",
       "dtype: int64"
      ]
     },
     "execution_count": 82,
     "metadata": {},
     "output_type": "execute_result"
    }
   ],
   "source": [
    "weather_df.count()"
   ]
  },
  {
   "cell_type": "code",
   "execution_count": 83,
   "metadata": {},
   "outputs": [],
   "source": [
    "\n",
    "# export to .csv\n",
    "weather_df.to_csv(output_data_file)\n",
    "\n"
   ]
  },
  {
   "cell_type": "code",
   "execution_count": 9,
   "metadata": {
    "scrolled": true
   },
   "outputs": [
    {
     "data": {
      "text/html": [
       "<div>\n",
       "<style scoped>\n",
       "    .dataframe tbody tr th:only-of-type {\n",
       "        vertical-align: middle;\n",
       "    }\n",
       "\n",
       "    .dataframe tbody tr th {\n",
       "        vertical-align: top;\n",
       "    }\n",
       "\n",
       "    .dataframe thead th {\n",
       "        text-align: right;\n",
       "    }\n",
       "</style>\n",
       "<table border=\"1\" class=\"dataframe\">\n",
       "  <thead>\n",
       "    <tr style=\"text-align: right;\">\n",
       "      <th></th>\n",
       "      <th>Unnamed: 0</th>\n",
       "      <th>City</th>\n",
       "      <th>Lat</th>\n",
       "      <th>Lng</th>\n",
       "      <th>Max Temp</th>\n",
       "      <th>Humidity</th>\n",
       "      <th>Cloudiness</th>\n",
       "      <th>Wind Speed</th>\n",
       "      <th>Country</th>\n",
       "      <th>Date</th>\n",
       "    </tr>\n",
       "  </thead>\n",
       "  <tbody>\n",
       "    <tr>\n",
       "      <th>0</th>\n",
       "      <td>0</td>\n",
       "      <td>bluff</td>\n",
       "      <td>-46.60</td>\n",
       "      <td>168.33</td>\n",
       "      <td>37.00</td>\n",
       "      <td>93</td>\n",
       "      <td>54</td>\n",
       "      <td>3.00</td>\n",
       "      <td>NZ</td>\n",
       "      <td>1591993398</td>\n",
       "    </tr>\n",
       "    <tr>\n",
       "      <th>1</th>\n",
       "      <td>1</td>\n",
       "      <td>upernavik</td>\n",
       "      <td>72.79</td>\n",
       "      <td>-56.15</td>\n",
       "      <td>32.67</td>\n",
       "      <td>94</td>\n",
       "      <td>0</td>\n",
       "      <td>3.11</td>\n",
       "      <td>GL</td>\n",
       "      <td>1591993408</td>\n",
       "    </tr>\n",
       "    <tr>\n",
       "      <th>2</th>\n",
       "      <td>2</td>\n",
       "      <td>hamilton</td>\n",
       "      <td>39.18</td>\n",
       "      <td>-84.53</td>\n",
       "      <td>84.99</td>\n",
       "      <td>28</td>\n",
       "      <td>40</td>\n",
       "      <td>6.93</td>\n",
       "      <td>US</td>\n",
       "      <td>1591993408</td>\n",
       "    </tr>\n",
       "    <tr>\n",
       "      <th>3</th>\n",
       "      <td>3</td>\n",
       "      <td>tasiilaq</td>\n",
       "      <td>65.61</td>\n",
       "      <td>-37.64</td>\n",
       "      <td>39.20</td>\n",
       "      <td>80</td>\n",
       "      <td>6</td>\n",
       "      <td>14.99</td>\n",
       "      <td>GL</td>\n",
       "      <td>1591993408</td>\n",
       "    </tr>\n",
       "    <tr>\n",
       "      <th>4</th>\n",
       "      <td>4</td>\n",
       "      <td>busselton</td>\n",
       "      <td>-33.65</td>\n",
       "      <td>115.33</td>\n",
       "      <td>48.99</td>\n",
       "      <td>81</td>\n",
       "      <td>68</td>\n",
       "      <td>10.58</td>\n",
       "      <td>AU</td>\n",
       "      <td>1591993408</td>\n",
       "    </tr>\n",
       "  </tbody>\n",
       "</table>\n",
       "</div>"
      ],
      "text/plain": [
       "   Unnamed: 0       City    Lat     Lng  Max Temp  Humidity  Cloudiness  \\\n",
       "0           0      bluff -46.60  168.33     37.00        93          54   \n",
       "1           1  upernavik  72.79  -56.15     32.67        94           0   \n",
       "2           2   hamilton  39.18  -84.53     84.99        28          40   \n",
       "3           3   tasiilaq  65.61  -37.64     39.20        80           6   \n",
       "4           4  busselton -33.65  115.33     48.99        81          68   \n",
       "\n",
       "   Wind Speed Country        Date  \n",
       "0        3.00      NZ  1591993398  \n",
       "1        3.11      GL  1591993408  \n",
       "2        6.93      US  1591993408  \n",
       "3       14.99      GL  1591993408  \n",
       "4       10.58      AU  1591993408  "
      ]
     },
     "execution_count": 9,
     "metadata": {},
     "output_type": "execute_result"
    }
   ],
   "source": [
    "weather_df=pd.read_csv(\"../output_data/cities.csv\")\n",
    "weather_df.head()"
   ]
  },
  {
   "cell_type": "code",
   "execution_count": 14,
   "metadata": {},
   "outputs": [
    {
     "data": {
      "text/html": [
       "<div>\n",
       "<style scoped>\n",
       "    .dataframe tbody tr th:only-of-type {\n",
       "        vertical-align: middle;\n",
       "    }\n",
       "\n",
       "    .dataframe tbody tr th {\n",
       "        vertical-align: top;\n",
       "    }\n",
       "\n",
       "    .dataframe thead th {\n",
       "        text-align: right;\n",
       "    }\n",
       "</style>\n",
       "<table border=\"1\" class=\"dataframe\">\n",
       "  <thead>\n",
       "    <tr style=\"text-align: right;\">\n",
       "      <th></th>\n",
       "      <th>City</th>\n",
       "      <th>Lat</th>\n",
       "      <th>Lng</th>\n",
       "      <th>Max Temp</th>\n",
       "      <th>Humidity</th>\n",
       "      <th>Cloudiness</th>\n",
       "      <th>Wind Speed</th>\n",
       "      <th>Country</th>\n",
       "      <th>Date</th>\n",
       "    </tr>\n",
       "  </thead>\n",
       "  <tbody>\n",
       "    <tr>\n",
       "      <th>0</th>\n",
       "      <td>bluff</td>\n",
       "      <td>-46.60</td>\n",
       "      <td>168.33</td>\n",
       "      <td>37.00</td>\n",
       "      <td>93</td>\n",
       "      <td>54</td>\n",
       "      <td>3.00</td>\n",
       "      <td>NZ</td>\n",
       "      <td>1591993398</td>\n",
       "    </tr>\n",
       "    <tr>\n",
       "      <th>1</th>\n",
       "      <td>upernavik</td>\n",
       "      <td>72.79</td>\n",
       "      <td>-56.15</td>\n",
       "      <td>32.67</td>\n",
       "      <td>94</td>\n",
       "      <td>0</td>\n",
       "      <td>3.11</td>\n",
       "      <td>GL</td>\n",
       "      <td>1591993408</td>\n",
       "    </tr>\n",
       "    <tr>\n",
       "      <th>2</th>\n",
       "      <td>hamilton</td>\n",
       "      <td>39.18</td>\n",
       "      <td>-84.53</td>\n",
       "      <td>84.99</td>\n",
       "      <td>28</td>\n",
       "      <td>40</td>\n",
       "      <td>6.93</td>\n",
       "      <td>US</td>\n",
       "      <td>1591993408</td>\n",
       "    </tr>\n",
       "    <tr>\n",
       "      <th>3</th>\n",
       "      <td>tasiilaq</td>\n",
       "      <td>65.61</td>\n",
       "      <td>-37.64</td>\n",
       "      <td>39.20</td>\n",
       "      <td>80</td>\n",
       "      <td>6</td>\n",
       "      <td>14.99</td>\n",
       "      <td>GL</td>\n",
       "      <td>1591993408</td>\n",
       "    </tr>\n",
       "    <tr>\n",
       "      <th>4</th>\n",
       "      <td>busselton</td>\n",
       "      <td>-33.65</td>\n",
       "      <td>115.33</td>\n",
       "      <td>48.99</td>\n",
       "      <td>81</td>\n",
       "      <td>68</td>\n",
       "      <td>10.58</td>\n",
       "      <td>AU</td>\n",
       "      <td>1591993408</td>\n",
       "    </tr>\n",
       "  </tbody>\n",
       "</table>\n",
       "</div>"
      ],
      "text/plain": [
       "        City    Lat     Lng  Max Temp  Humidity  Cloudiness  Wind Speed  \\\n",
       "0      bluff -46.60  168.33     37.00        93          54        3.00   \n",
       "1  upernavik  72.79  -56.15     32.67        94           0        3.11   \n",
       "2   hamilton  39.18  -84.53     84.99        28          40        6.93   \n",
       "3   tasiilaq  65.61  -37.64     39.20        80           6       14.99   \n",
       "4  busselton -33.65  115.33     48.99        81          68       10.58   \n",
       "\n",
       "  Country        Date  \n",
       "0      NZ  1591993398  \n",
       "1      GL  1591993408  \n",
       "2      US  1591993408  \n",
       "3      GL  1591993408  \n",
       "4      AU  1591993408  "
      ]
     },
     "execution_count": 14,
     "metadata": {},
     "output_type": "execute_result"
    }
   ],
   "source": [
    "clean_city_data=weather_df.drop(['Unnamed: 0'],axis=1)\n",
    "clean_city_data.head()"
   ]
  },
  {
   "cell_type": "markdown",
   "metadata": {},
   "source": [
    "## Inspect the data and remove the cities where the humidity > 100%.\n",
    "----\n",
    "Skip this step if there are no cities that have humidity > 100%. "
   ]
  },
  {
   "cell_type": "code",
   "execution_count": 15,
   "metadata": {},
   "outputs": [
    {
     "data": {
      "text/html": [
       "<div>\n",
       "<style scoped>\n",
       "    .dataframe tbody tr th:only-of-type {\n",
       "        vertical-align: middle;\n",
       "    }\n",
       "\n",
       "    .dataframe tbody tr th {\n",
       "        vertical-align: top;\n",
       "    }\n",
       "\n",
       "    .dataframe thead th {\n",
       "        text-align: right;\n",
       "    }\n",
       "</style>\n",
       "<table border=\"1\" class=\"dataframe\">\n",
       "  <thead>\n",
       "    <tr style=\"text-align: right;\">\n",
       "      <th></th>\n",
       "      <th>Lat</th>\n",
       "      <th>Lng</th>\n",
       "      <th>Max Temp</th>\n",
       "      <th>Humidity</th>\n",
       "      <th>Cloudiness</th>\n",
       "      <th>Wind Speed</th>\n",
       "      <th>Date</th>\n",
       "    </tr>\n",
       "  </thead>\n",
       "  <tbody>\n",
       "    <tr>\n",
       "      <th>count</th>\n",
       "      <td>575.000000</td>\n",
       "      <td>575.000000</td>\n",
       "      <td>575.000000</td>\n",
       "      <td>575.000000</td>\n",
       "      <td>575.000000</td>\n",
       "      <td>575.000000</td>\n",
       "      <td>5.750000e+02</td>\n",
       "    </tr>\n",
       "    <tr>\n",
       "      <th>mean</th>\n",
       "      <td>21.352835</td>\n",
       "      <td>23.236957</td>\n",
       "      <td>68.121843</td>\n",
       "      <td>67.707826</td>\n",
       "      <td>46.739130</td>\n",
       "      <td>8.048435</td>\n",
       "      <td>1.591994e+09</td>\n",
       "    </tr>\n",
       "    <tr>\n",
       "      <th>std</th>\n",
       "      <td>32.073560</td>\n",
       "      <td>84.542086</td>\n",
       "      <td>14.943329</td>\n",
       "      <td>22.159656</td>\n",
       "      <td>39.037569</td>\n",
       "      <td>5.476434</td>\n",
       "      <td>7.409460e+01</td>\n",
       "    </tr>\n",
       "    <tr>\n",
       "      <th>min</th>\n",
       "      <td>-54.800000</td>\n",
       "      <td>-175.200000</td>\n",
       "      <td>32.670000</td>\n",
       "      <td>1.000000</td>\n",
       "      <td>0.000000</td>\n",
       "      <td>0.070000</td>\n",
       "      <td>1.591993e+09</td>\n",
       "    </tr>\n",
       "    <tr>\n",
       "      <th>25%</th>\n",
       "      <td>-5.550000</td>\n",
       "      <td>-46.335000</td>\n",
       "      <td>57.020000</td>\n",
       "      <td>53.000000</td>\n",
       "      <td>3.000000</td>\n",
       "      <td>4.150000</td>\n",
       "      <td>1.591994e+09</td>\n",
       "    </tr>\n",
       "    <tr>\n",
       "      <th>50%</th>\n",
       "      <td>27.920000</td>\n",
       "      <td>27.460000</td>\n",
       "      <td>69.800000</td>\n",
       "      <td>73.000000</td>\n",
       "      <td>40.000000</td>\n",
       "      <td>6.730000</td>\n",
       "      <td>1.591994e+09</td>\n",
       "    </tr>\n",
       "    <tr>\n",
       "      <th>75%</th>\n",
       "      <td>46.425000</td>\n",
       "      <td>85.195000</td>\n",
       "      <td>78.990000</td>\n",
       "      <td>85.000000</td>\n",
       "      <td>90.000000</td>\n",
       "      <td>10.545000</td>\n",
       "      <td>1.591994e+09</td>\n",
       "    </tr>\n",
       "    <tr>\n",
       "      <th>max</th>\n",
       "      <td>78.220000</td>\n",
       "      <td>179.320000</td>\n",
       "      <td>102.310000</td>\n",
       "      <td>100.000000</td>\n",
       "      <td>100.000000</td>\n",
       "      <td>30.690000</td>\n",
       "      <td>1.591994e+09</td>\n",
       "    </tr>\n",
       "  </tbody>\n",
       "</table>\n",
       "</div>"
      ],
      "text/plain": [
       "              Lat         Lng    Max Temp    Humidity  Cloudiness  Wind Speed  \\\n",
       "count  575.000000  575.000000  575.000000  575.000000  575.000000  575.000000   \n",
       "mean    21.352835   23.236957   68.121843   67.707826   46.739130    8.048435   \n",
       "std     32.073560   84.542086   14.943329   22.159656   39.037569    5.476434   \n",
       "min    -54.800000 -175.200000   32.670000    1.000000    0.000000    0.070000   \n",
       "25%     -5.550000  -46.335000   57.020000   53.000000    3.000000    4.150000   \n",
       "50%     27.920000   27.460000   69.800000   73.000000   40.000000    6.730000   \n",
       "75%     46.425000   85.195000   78.990000   85.000000   90.000000   10.545000   \n",
       "max     78.220000  179.320000  102.310000  100.000000  100.000000   30.690000   \n",
       "\n",
       "               Date  \n",
       "count  5.750000e+02  \n",
       "mean   1.591994e+09  \n",
       "std    7.409460e+01  \n",
       "min    1.591993e+09  \n",
       "25%    1.591994e+09  \n",
       "50%    1.591994e+09  \n",
       "75%    1.591994e+09  \n",
       "max    1.591994e+09  "
      ]
     },
     "execution_count": 15,
     "metadata": {},
     "output_type": "execute_result"
    }
   ],
   "source": [
    "clean_city_data.describe()"
   ]
  },
  {
   "cell_type": "code",
   "execution_count": 16,
   "metadata": {},
   "outputs": [
    {
     "data": {
      "text/html": [
       "<div>\n",
       "<style scoped>\n",
       "    .dataframe tbody tr th:only-of-type {\n",
       "        vertical-align: middle;\n",
       "    }\n",
       "\n",
       "    .dataframe tbody tr th {\n",
       "        vertical-align: top;\n",
       "    }\n",
       "\n",
       "    .dataframe thead th {\n",
       "        text-align: right;\n",
       "    }\n",
       "</style>\n",
       "<table border=\"1\" class=\"dataframe\">\n",
       "  <thead>\n",
       "    <tr style=\"text-align: right;\">\n",
       "      <th></th>\n",
       "      <th>City</th>\n",
       "      <th>Lat</th>\n",
       "      <th>Lng</th>\n",
       "      <th>Max Temp</th>\n",
       "      <th>Humidity</th>\n",
       "      <th>Cloudiness</th>\n",
       "      <th>Wind Speed</th>\n",
       "      <th>Country</th>\n",
       "      <th>Date</th>\n",
       "    </tr>\n",
       "  </thead>\n",
       "  <tbody>\n",
       "  </tbody>\n",
       "</table>\n",
       "</div>"
      ],
      "text/plain": [
       "Empty DataFrame\n",
       "Columns: [City, Lat, Lng, Max Temp, Humidity, Cloudiness, Wind Speed, Country, Date]\n",
       "Index: []"
      ]
     },
     "execution_count": 16,
     "metadata": {},
     "output_type": "execute_result"
    }
   ],
   "source": [
    "high_humidities=clean_city_data.loc[clean_city_data[\"Humidity\"] > 100]\n",
    "high_humidities\n"
   ]
  },
  {
   "cell_type": "markdown",
   "metadata": {},
   "source": [
    "I ran the above logic but got zero cities with humidities>100"
   ]
  },
  {
   "cell_type": "code",
   "execution_count": 19,
   "metadata": {},
   "outputs": [
    {
     "data": {
      "text/plain": [
       "[]"
      ]
     },
     "execution_count": 19,
     "metadata": {},
     "output_type": "execute_result"
    }
   ],
   "source": [
    "#  Get the indices of cities that have humidity over 100%.\n",
    "high_humidities.index[high_humidities['Humidity']].tolist()"
   ]
  },
  {
   "cell_type": "code",
   "execution_count": 20,
   "metadata": {
    "scrolled": true
   },
   "outputs": [],
   "source": [
    "# Make a new DataFrame equal to the city data to drop all humidity outliers by index.\n",
    "# Passing \"inplace=False\" will make a copy of the city_data DataFrame, which we call \"clean_city_data\".\n"
   ]
  },
  {
   "cell_type": "code",
   "execution_count": 21,
   "metadata": {},
   "outputs": [],
   "source": [
    "# Extract relevant fields from the data frame\n",
    "\n",
    "clean_data_file = \"../output_data/city_data.csv\"\n",
    "# Export the City_Data into a csv\n",
    "clean_city_data.to_csv(clean_data_file)"
   ]
  },
  {
   "cell_type": "markdown",
   "metadata": {},
   "source": [
    "## Plotting the Data\n",
    "* Use proper labeling of the plots using plot titles (including date of analysis) and axes labels.\n",
    "* Save the plotted figures as .pngs."
   ]
  },
  {
   "cell_type": "markdown",
   "metadata": {},
   "source": [
    "## Latitude vs. Temperature Plot"
   ]
  },
  {
   "cell_type": "code",
   "execution_count": 22,
   "metadata": {},
   "outputs": [
    {
     "data": {
      "image/png": "[encoded data removed]",
      "text/plain": [
       "<Figure size 432x288 with 1 Axes>"
      ]
     },
     "metadata": {
      "needs_background": "light"
     },
     "output_type": "display_data"
    }
   ],
   "source": [
    "plt.scatter(clean_city_data[\"Lat\"],clean_city_data[\"Max Temp\"],edgecolors=\"black\",facecolors=\"gray\")\n",
    "plt.title(\"City Latitude vs. Max Temperature on 06/12/2020\")\n",
    "plt.xlabel(\"Latitude\")\n",
    "plt.ylabel(\"Max Temperature (F)\")\n",
    "plt.grid (b=True,which=\"major\",axis=\"both\",linestyle=\"-\",color=\"lightgrey\")\n",
    "plt.savefig(\"../output_data/Fig1.png\")\n",
    "plt.show()"
   ]
  },
  {
   "cell_type": "markdown",
   "metadata": {},
   "source": [
    "#It's summer time an it's hot. And the closer you get to the equator, as expected, the hoter the max temerature is."
   ]
  },
  {
   "cell_type": "markdown",
   "metadata": {},
   "source": [
    "## Latitude vs. Humidity Plot"
   ]
  },
  {
   "cell_type": "code",
   "execution_count": 23,
   "metadata": {},
   "outputs": [
    {
     "data": {
      "image/png": "[encoded data removed]",
      "text/plain": [
       "<Figure size 432x288 with 1 Axes>"
      ]
     },
     "metadata": {
      "needs_background": "light"
     },
     "output_type": "display_data"
    }
   ],
   "source": [
    "plt.scatter(clean_city_data[\"Lat\"],clean_city_data[\"Humidity\"],edgecolors=\"black\",facecolors=\"lightblue\")\n",
    "plt.title(\"City Latitude vs. Humidity on 06/12/2020\")\n",
    "plt.xlabel(\"Latitude\")\n",
    "plt.ylabel(\"Humididty (%)\")\n",
    "plt.grid (b=True,which=\"major\",axis=\"both\",linestyle=\"-\",color=\"lightgrey\")\n",
    "plt.savefig(\"../output_data/Fig2.png\")\n",
    "plt.show()"
   ]
  },
  {
   "cell_type": "markdown",
   "metadata": {},
   "source": [
    "In June, it seems that humidities are lower in the North Eastern Hemisphere. but overall, the humidity is pretty high in summer months."
   ]
  },
  {
   "cell_type": "markdown",
   "metadata": {},
   "source": [
    "## Latitude vs. Cloudiness Plot"
   ]
  },
  {
   "cell_type": "code",
   "execution_count": 26,
   "metadata": {},
   "outputs": [
    {
     "data": {
      "image/png": "[encoded data removed]",
      "text/plain": [
       "<Figure size 432x288 with 1 Axes>"
      ]
     },
     "metadata": {
      "needs_background": "light"
     },
     "output_type": "display_data"
    }
   ],
   "source": [
    "plt.scatter(clean_city_data[\"Lat\"],clean_city_data[\"Cloudiness\"],edgecolors=\"black\",facecolors=\"pink\")\n",
    "plt.title(\"City Latitude vs. Cloudiness on 06/12/2020\")\n",
    "plt.xlabel(\"Latitude\")\n",
    "plt.ylabel(\"Cloudiness (%)\")\n",
    "plt.grid (b=True,which=\"major\",axis=\"both\",linestyle=\"-\",color=\"lightgrey\")\n",
    "plt.savefig(\"../output_data/Fig3.png\")\n",
    "plt.show()"
   ]
  },
  {
   "cell_type": "markdown",
   "metadata": {},
   "source": [
    "Cloudiness in June seems to be evenly spread, and not really determined by location."
   ]
  },
  {
   "cell_type": "markdown",
   "metadata": {},
   "source": [
    "## Latitude vs. Wind Speed Plot"
   ]
  },
  {
   "cell_type": "code",
   "execution_count": 27,
   "metadata": {
    "scrolled": true
   },
   "outputs": [
    {
     "data": {
      "image/png": "[encoded data removed]",
      "text/plain": [
       "<Figure size 432x288 with 1 Axes>"
      ]
     },
     "metadata": {
      "needs_background": "light"
     },
     "output_type": "display_data"
    }
   ],
   "source": [
    "plt.scatter(clean_city_data[\"Lat\"],clean_city_data[\"Wind Speed\"],edgecolors=\"black\",facecolors=\"green\")\n",
    "plt.title(\"City Latitude vs. Wind Speed on 06/12/2020\")\n",
    "plt.xlabel(\"Latitude\")\n",
    "plt.ylabel(\"Wind Speed (mph)\")\n",
    "plt.grid (b=True,which=\"major\",axis=\"both\",linestyle=\"-\",color=\"lightgrey\")\n",
    "plt.savefig(\"../output_data/Fig4.png\")\n",
    "plt.show()"
   ]
  },
  {
   "cell_type": "markdown",
   "metadata": {},
   "source": [
    "Wind Speed is fairly low in June, probably due to the height of temperatures."
   ]
  },
  {
   "cell_type": "markdown",
   "metadata": {},
   "source": [
    "## Linear Regression"
   ]
  },
  {
   "cell_type": "code",
   "execution_count": 94,
   "metadata": {},
   "outputs": [],
   "source": [
    "# OPTIONAL: Create a function to create Linear Regression plots"
   ]
  },
  {
   "cell_type": "code",
   "execution_count": 95,
   "metadata": {},
   "outputs": [],
   "source": [
    "# Create Northern and Southern Hemisphere DataFrames"
   ]
  },
  {
   "cell_type": "code",
   "execution_count": 28,
   "metadata": {},
   "outputs": [
    {
     "data": {
      "text/html": [
       "<div>\n",
       "<style scoped>\n",
       "    .dataframe tbody tr th:only-of-type {\n",
       "        vertical-align: middle;\n",
       "    }\n",
       "\n",
       "    .dataframe tbody tr th {\n",
       "        vertical-align: top;\n",
       "    }\n",
       "\n",
       "    .dataframe thead th {\n",
       "        text-align: right;\n",
       "    }\n",
       "</style>\n",
       "<table border=\"1\" class=\"dataframe\">\n",
       "  <thead>\n",
       "    <tr style=\"text-align: right;\">\n",
       "      <th></th>\n",
       "      <th>City</th>\n",
       "      <th>Lat</th>\n",
       "      <th>Lng</th>\n",
       "      <th>Max Temp</th>\n",
       "      <th>Humidity</th>\n",
       "      <th>Cloudiness</th>\n",
       "      <th>Wind Speed</th>\n",
       "      <th>Country</th>\n",
       "      <th>Date</th>\n",
       "    </tr>\n",
       "  </thead>\n",
       "  <tbody>\n",
       "    <tr>\n",
       "      <th>0</th>\n",
       "      <td>bluff</td>\n",
       "      <td>-46.60</td>\n",
       "      <td>168.33</td>\n",
       "      <td>37.00</td>\n",
       "      <td>93</td>\n",
       "      <td>54</td>\n",
       "      <td>3.00</td>\n",
       "      <td>NZ</td>\n",
       "      <td>1591993398</td>\n",
       "    </tr>\n",
       "    <tr>\n",
       "      <th>4</th>\n",
       "      <td>busselton</td>\n",
       "      <td>-33.65</td>\n",
       "      <td>115.33</td>\n",
       "      <td>48.99</td>\n",
       "      <td>81</td>\n",
       "      <td>68</td>\n",
       "      <td>10.58</td>\n",
       "      <td>AU</td>\n",
       "      <td>1591993408</td>\n",
       "    </tr>\n",
       "    <tr>\n",
       "      <th>8</th>\n",
       "      <td>talnakh</td>\n",
       "      <td>69.49</td>\n",
       "      <td>88.40</td>\n",
       "      <td>39.20</td>\n",
       "      <td>72</td>\n",
       "      <td>0</td>\n",
       "      <td>13.42</td>\n",
       "      <td>RU</td>\n",
       "      <td>1591993429</td>\n",
       "    </tr>\n",
       "    <tr>\n",
       "      <th>9</th>\n",
       "      <td>victoria</td>\n",
       "      <td>22.29</td>\n",
       "      <td>114.16</td>\n",
       "      <td>82.00</td>\n",
       "      <td>83</td>\n",
       "      <td>40</td>\n",
       "      <td>13.18</td>\n",
       "      <td>HK</td>\n",
       "      <td>1591993379</td>\n",
       "    </tr>\n",
       "    <tr>\n",
       "      <th>10</th>\n",
       "      <td>yerbogachen</td>\n",
       "      <td>61.28</td>\n",
       "      <td>108.01</td>\n",
       "      <td>42.46</td>\n",
       "      <td>84</td>\n",
       "      <td>66</td>\n",
       "      <td>8.21</td>\n",
       "      <td>RU</td>\n",
       "      <td>1591993439</td>\n",
       "    </tr>\n",
       "  </tbody>\n",
       "</table>\n",
       "</div>"
      ],
      "text/plain": [
       "           City    Lat     Lng  Max Temp  Humidity  Cloudiness  Wind Speed  \\\n",
       "0         bluff -46.60  168.33     37.00        93          54        3.00   \n",
       "4     busselton -33.65  115.33     48.99        81          68       10.58   \n",
       "8       talnakh  69.49   88.40     39.20        72           0       13.42   \n",
       "9      victoria  22.29  114.16     82.00        83          40       13.18   \n",
       "10  yerbogachen  61.28  108.01     42.46        84          66        8.21   \n",
       "\n",
       "   Country        Date  \n",
       "0       NZ  1591993398  \n",
       "4       AU  1591993408  \n",
       "8       RU  1591993429  \n",
       "9       HK  1591993379  \n",
       "10      RU  1591993439  "
      ]
     },
     "execution_count": 28,
     "metadata": {},
     "output_type": "execute_result"
    }
   ],
   "source": [
    "hemp_north=clean_city_data.loc[clean_city_data[\"Lng\"] >= 0]\n",
    "hemp_north.head()"
   ]
  },
  {
   "cell_type": "code",
   "execution_count": 29,
   "metadata": {},
   "outputs": [
    {
     "data": {
      "text/html": [
       "<div>\n",
       "<style scoped>\n",
       "    .dataframe tbody tr th:only-of-type {\n",
       "        vertical-align: middle;\n",
       "    }\n",
       "\n",
       "    .dataframe tbody tr th {\n",
       "        vertical-align: top;\n",
       "    }\n",
       "\n",
       "    .dataframe thead th {\n",
       "        text-align: right;\n",
       "    }\n",
       "</style>\n",
       "<table border=\"1\" class=\"dataframe\">\n",
       "  <thead>\n",
       "    <tr style=\"text-align: right;\">\n",
       "      <th></th>\n",
       "      <th>City</th>\n",
       "      <th>Lat</th>\n",
       "      <th>Lng</th>\n",
       "      <th>Max Temp</th>\n",
       "      <th>Humidity</th>\n",
       "      <th>Cloudiness</th>\n",
       "      <th>Wind Speed</th>\n",
       "      <th>Country</th>\n",
       "      <th>Date</th>\n",
       "    </tr>\n",
       "  </thead>\n",
       "  <tbody>\n",
       "    <tr>\n",
       "      <th>1</th>\n",
       "      <td>upernavik</td>\n",
       "      <td>72.79</td>\n",
       "      <td>-56.15</td>\n",
       "      <td>32.67</td>\n",
       "      <td>94</td>\n",
       "      <td>0</td>\n",
       "      <td>3.11</td>\n",
       "      <td>GL</td>\n",
       "      <td>1591993408</td>\n",
       "    </tr>\n",
       "    <tr>\n",
       "      <th>2</th>\n",
       "      <td>hamilton</td>\n",
       "      <td>39.18</td>\n",
       "      <td>-84.53</td>\n",
       "      <td>84.99</td>\n",
       "      <td>28</td>\n",
       "      <td>40</td>\n",
       "      <td>6.93</td>\n",
       "      <td>US</td>\n",
       "      <td>1591993408</td>\n",
       "    </tr>\n",
       "    <tr>\n",
       "      <th>3</th>\n",
       "      <td>tasiilaq</td>\n",
       "      <td>65.61</td>\n",
       "      <td>-37.64</td>\n",
       "      <td>39.20</td>\n",
       "      <td>80</td>\n",
       "      <td>6</td>\n",
       "      <td>14.99</td>\n",
       "      <td>GL</td>\n",
       "      <td>1591993408</td>\n",
       "    </tr>\n",
       "    <tr>\n",
       "      <th>5</th>\n",
       "      <td>new norfolk</td>\n",
       "      <td>6.65</td>\n",
       "      <td>-10.59</td>\n",
       "      <td>80.60</td>\n",
       "      <td>83</td>\n",
       "      <td>20</td>\n",
       "      <td>3.36</td>\n",
       "      <td>LR</td>\n",
       "      <td>1591993418</td>\n",
       "    </tr>\n",
       "    <tr>\n",
       "      <th>6</th>\n",
       "      <td>hilo</td>\n",
       "      <td>19.73</td>\n",
       "      <td>-155.09</td>\n",
       "      <td>80.60</td>\n",
       "      <td>57</td>\n",
       "      <td>90</td>\n",
       "      <td>3.36</td>\n",
       "      <td>US</td>\n",
       "      <td>1591993419</td>\n",
       "    </tr>\n",
       "  </tbody>\n",
       "</table>\n",
       "</div>"
      ],
      "text/plain": [
       "          City    Lat     Lng  Max Temp  Humidity  Cloudiness  Wind Speed  \\\n",
       "1    upernavik  72.79  -56.15     32.67        94           0        3.11   \n",
       "2     hamilton  39.18  -84.53     84.99        28          40        6.93   \n",
       "3     tasiilaq  65.61  -37.64     39.20        80           6       14.99   \n",
       "5  new norfolk   6.65  -10.59     80.60        83          20        3.36   \n",
       "6         hilo  19.73 -155.09     80.60        57          90        3.36   \n",
       "\n",
       "  Country        Date  \n",
       "1      GL  1591993408  \n",
       "2      US  1591993408  \n",
       "3      GL  1591993408  \n",
       "5      LR  1591993418  \n",
       "6      US  1591993419  "
      ]
     },
     "execution_count": 29,
     "metadata": {},
     "output_type": "execute_result"
    }
   ],
   "source": [
    "hemp_south=clean_city_data.loc[clean_city_data[\"Lng\"] < 0]\n",
    "hemp_south.head()"
   ]
  },
  {
   "cell_type": "markdown",
   "metadata": {},
   "source": [
    "####  Northern Hemisphere - Max Temp vs. Latitude Linear Regression"
   ]
  },
  {
   "cell_type": "code",
   "execution_count": 30,
   "metadata": {},
   "outputs": [
    {
     "name": "stdout",
     "output_type": "stream",
     "text": [
      "The r-squared is: -0.18812900053058326\n",
      "The equation of the regression line is: y = -0.08x + 68.06\n"
     ]
    },
    {
     "data": {
      "image/png": "[encoded data removed]",
      "text/plain": [
       "<Figure size 432x288 with 1 Axes>"
      ]
     },
     "metadata": {
      "needs_background": "light"
     },
     "output_type": "display_data"
    }
   ],
   "source": [
    "# Print out the r-squared value along with the plot.\n",
    "x_values = hemp_north['Lat']\n",
    "y_values = hemp_north['Max Temp']\n",
    "(slope, intercept, rvalue, pvalue, stderr) = linregress(x_values, y_values)\n",
    "regress_values = x_values * slope + intercept\n",
    "line_eq = f'y = {str(round(slope,2))}x + {str(round(intercept,2))}'\n",
    "plt.scatter(x_values,y_values)\n",
    "plt.plot(x_values,regress_values,\"r-\")\n",
    "plt.annotate(line_eq,(17,37),fontsize=15,color=\"black\")\n",
    "plt.title(\"Northern Hemisphere - Latitude vs. Max Temp Linear Regression\")\n",
    "plt.xlabel(\"Latitude\")\n",
    "plt.ylabel(\"Max Temp (F)\")\n",
    "print(f\"The r-squared is: {rvalue}\")\n",
    "print(f\"The equation of the regression line is: {line_eq}\")\n",
    "\n",
    "\n",
    "plt.show()"
   ]
  },
  {
   "cell_type": "markdown",
   "metadata": {},
   "source": [
    "The code is analyzing the linear relationsh8ip between temperatures above the equator"
   ]
  },
  {
   "cell_type": "markdown",
   "metadata": {},
   "source": [
    "####  Southern Hemisphere - Max Temp vs. Latitude Linear Regression"
   ]
  },
  {
   "cell_type": "code",
   "execution_count": 31,
   "metadata": {},
   "outputs": [
    {
     "name": "stdout",
     "output_type": "stream",
     "text": [
      "The r-squared is: -0.22657156474567453\n",
      "The equation of the regression line is: y = -0.12x + 73.69\n"
     ]
    },
    {
     "data": {
      "image/png": "[encoded data removed]",
      "text/plain": [
       "<Figure size 432x288 with 1 Axes>"
      ]
     },
     "metadata": {
      "needs_background": "light"
     },
     "output_type": "display_data"
    }
   ],
   "source": [
    "x_values = hemp_south['Lat']\n",
    "y_values = hemp_south['Max Temp']\n",
    "(slope, intercept, rvalue, pvalue, stderr) = linregress(x_values, y_values)\n",
    "regress_values = x_values * slope + intercept\n",
    "line_eq = f'y = {str(round(slope,2))}x + {str(round(intercept,2))}'\n",
    "plt.scatter(x_values,y_values)\n",
    "plt.plot(x_values,regress_values,\"r-\")\n",
    "plt.annotate(line_eq,(17,37),fontsize=15,color=\"black\")\n",
    "plt.title(\"Southern Hemisphere - Latitude vs. Max Temp Linear Regression\")\n",
    "plt.xlabel(\"Latitude\")\n",
    "plt.ylabel(\"Max Temp (F)\")\n",
    "print(f\"The r-squared is: {rvalue}\")\n",
    "print(f\"The equation of the regression line is: {line_eq}\")\n",
    "\n",
    "\n",
    "plt.show()"
   ]
  },
  {
   "cell_type": "markdown",
   "metadata": {},
   "source": [
    "The code is analyzing the linear relationsh8ip between temperatures below the equator"
   ]
  },
  {
   "cell_type": "markdown",
   "metadata": {},
   "source": [
    "####  Northern Hemisphere - Humidity (%) vs. Latitude Linear Regression"
   ]
  },
  {
   "cell_type": "code",
   "execution_count": 32,
   "metadata": {},
   "outputs": [
    {
     "name": "stdout",
     "output_type": "stream",
     "text": [
      "The r-squared is: -0.13996735581375103\n",
      "The equation of the regression line is: y = -0.09x + 73.1\n"
     ]
    },
    {
     "data": {
      "image/png": "[encoded data removed]",
      "text/plain": [
       "<Figure size 432x288 with 1 Axes>"
      ]
     },
     "metadata": {
      "needs_background": "light"
     },
     "output_type": "display_data"
    }
   ],
   "source": [
    "x_values = hemp_north['Lat']\n",
    "y_values = hemp_north['Humidity']\n",
    "(slope, intercept, rvalue, pvalue, stderr) = linregress(x_values, y_values)\n",
    "regress_values = x_values * slope + intercept\n",
    "line_eq = f'y = {str(round(slope,2))}x + {str(round(intercept,2))}'\n",
    "plt.scatter(x_values,y_values)\n",
    "plt.plot(x_values,regress_values,\"r-\")\n",
    "plt.annotate(line_eq,(17,37),fontsize=15,color=\"black\")\n",
    "plt.title(\"Northern Hemisphere - Latitude vs. Humidity Linear Regression\")\n",
    "plt.xlabel(\"Latitude\")\n",
    "plt.ylabel(\"Humidity (%)\")\n",
    "print(f\"The r-squared is: {rvalue}\")\n",
    "print(f\"The equation of the regression line is: {line_eq}\")\n",
    "\n",
    "\n",
    "plt.show()"
   ]
  },
  {
   "cell_type": "markdown",
   "metadata": {},
   "source": [
    "The code is analyzing the linear relationsh8ip between humidity above the equator"
   ]
  },
  {
   "cell_type": "markdown",
   "metadata": {},
   "source": [
    "####  Southern Hemisphere - Humidity (%) vs. Latitude Linear Regression"
   ]
  },
  {
   "cell_type": "code",
   "execution_count": 33,
   "metadata": {},
   "outputs": [
    {
     "name": "stdout",
     "output_type": "stream",
     "text": [
      "The r-squared is: -0.07020592440329608\n",
      "The equation of the regression line is: y = -0.05x + 62.76\n"
     ]
    },
    {
     "data": {
      "image/png": "[encoded data removed]",
      "text/plain": [
       "<Figure size 432x288 with 1 Axes>"
      ]
     },
     "metadata": {
      "needs_background": "light"
     },
     "output_type": "display_data"
    }
   ],
   "source": [
    "x_values = hemp_south['Lat']\n",
    "y_values = hemp_south['Humidity']\n",
    "(slope, intercept, rvalue, pvalue, stderr) = linregress(x_values, y_values)\n",
    "regress_values = x_values * slope + intercept\n",
    "line_eq = f'y = {str(round(slope,2))}x + {str(round(intercept,2))}'\n",
    "plt.scatter(x_values,y_values)\n",
    "plt.plot(x_values,regress_values,\"r-\")\n",
    "plt.annotate(line_eq,(17,37),fontsize=15,color=\"black\")\n",
    "plt.title(\"Southern Hemisphere - Latitude vs. Humidity Linear Regression\")\n",
    "plt.xlabel(\"Latitude\")\n",
    "plt.ylabel(\"Humidity (%)\")\n",
    "print(f\"The r-squared is: {rvalue}\")\n",
    "print(f\"The equation of the regression line is: {line_eq}\")\n",
    "\n",
    "\n",
    "plt.show()"
   ]
  },
  {
   "cell_type": "markdown",
   "metadata": {},
   "source": [
    "The code is analyzing the linear relationsh8ip between humidity below the equator"
   ]
  },
  {
   "cell_type": "markdown",
   "metadata": {},
   "source": [
    "####  Northern Hemisphere - Cloudiness (%) vs. Latitude Linear Regression"
   ]
  },
  {
   "cell_type": "code",
   "execution_count": 34,
   "metadata": {},
   "outputs": [
    {
     "name": "stdout",
     "output_type": "stream",
     "text": [
      "The r-squared is: -0.016872858877956098\n",
      "The equation of the regression line is: y = -0.02x + 50.05\n"
     ]
    },
    {
     "data": {
      "image/png": "[encoded data removed]",
      "text/plain": [
       "<Figure size 432x288 with 1 Axes>"
      ]
     },
     "metadata": {
      "needs_background": "light"
     },
     "output_type": "display_data"
    }
   ],
   "source": [
    "x_values = hemp_north['Lat']\n",
    "y_values = hemp_north['Cloudiness']\n",
    "(slope, intercept, rvalue, pvalue, stderr) = linregress(x_values, y_values)\n",
    "regress_values = x_values * slope + intercept\n",
    "line_eq = f'y = {str(round(slope,2))}x + {str(round(intercept,2))}'\n",
    "plt.scatter(x_values,y_values)\n",
    "plt.plot(x_values,regress_values,\"r-\")\n",
    "plt.annotate(line_eq,(17,37),fontsize=15,color=\"black\")\n",
    "plt.title(\"Northern Hemisphere - Latitude vs. Cloudiness Linear Regression\")\n",
    "plt.xlabel(\"Latitude\")\n",
    "plt.ylabel(\"Cloudiness (%)\")\n",
    "print(f\"The r-squared is: {rvalue}\")\n",
    "print(f\"The equation of the regression line is: {line_eq}\")\n",
    "\n",
    "\n",
    "plt.show()"
   ]
  },
  {
   "cell_type": "markdown",
   "metadata": {},
   "source": [
    "#The code is analyzing the linear relationsh8ip between how cloud it is above the equator"
   ]
  },
  {
   "cell_type": "markdown",
   "metadata": {},
   "source": [
    "####  Southern Hemisphere - Cloudiness (%) vs. Latitude Linear Regression"
   ]
  },
  {
   "cell_type": "code",
   "execution_count": 35,
   "metadata": {},
   "outputs": [
    {
     "name": "stdout",
     "output_type": "stream",
     "text": [
      "The r-squared is: 0.11735887266306753\n",
      "The equation of the regression line is: y = 0.13x + 38.96\n"
     ]
    },
    {
     "data": {
      "image/png": "[encoded data removed]",
      "text/plain": [
       "<Figure size 432x288 with 1 Axes>"
      ]
     },
     "metadata": {
      "needs_background": "light"
     },
     "output_type": "display_data"
    }
   ],
   "source": [
    "x_values = hemp_south['Lat']\n",
    "y_values = hemp_south['Cloudiness']\n",
    "(slope, intercept, rvalue, pvalue, stderr) = linregress(x_values, y_values)\n",
    "regress_values = x_values * slope + intercept\n",
    "line_eq = f'y = {str(round(slope,2))}x + {str(round(intercept,2))}'\n",
    "plt.scatter(x_values,y_values)\n",
    "plt.plot(x_values,regress_values,\"r-\")\n",
    "plt.annotate(line_eq,(17,37),fontsize=15,color=\"black\")\n",
    "plt.title(\"Southern Hemisphere - Latitude vs. Cloudiness Linear Regression\")\n",
    "plt.xlabel(\"Latitude\")\n",
    "plt.ylabel(\"Cloudiness (%)\")\n",
    "print(f\"The r-squared is: {rvalue}\")\n",
    "print(f\"The equation of the regression line is: {line_eq}\")\n",
    "\n",
    "\n",
    "plt.show()"
   ]
  },
  {
   "cell_type": "code",
   "execution_count": 36,
   "metadata": {},
   "outputs": [],
   "source": [
    "#The code is analyzing the linear relationsh8ip between how cloudy it is nr;pw the equator"
   ]
  },
  {
   "cell_type": "markdown",
   "metadata": {},
   "source": [
    "####  Northern Hemisphere - Wind Speed (mph) vs. Latitude Linear Regression"
   ]
  },
  {
   "cell_type": "code",
   "execution_count": 37,
   "metadata": {},
   "outputs": [
    {
     "name": "stdout",
     "output_type": "stream",
     "text": [
      "The r-squared is: 0.07268549030280569\n",
      "The equation of the regression line is: y = 0.01x + 7.05\n"
     ]
    },
    {
     "data": {
      "image/png": "[encoded data removed]",
      "text/plain": [
       "<Figure size 432x288 with 1 Axes>"
      ]
     },
     "metadata": {
      "needs_background": "light"
     },
     "output_type": "display_data"
    }
   ],
   "source": [
    "x_values = hemp_north['Lat']\n",
    "y_values = hemp_north['Wind Speed']\n",
    "(slope, intercept, rvalue, pvalue, stderr) = linregress(x_values, y_values)\n",
    "regress_values = x_values * slope + intercept\n",
    "line_eq = f'y = {str(round(slope,2))}x + {str(round(intercept,2))}'\n",
    "plt.scatter(x_values,y_values)\n",
    "plt.plot(x_values,regress_values,\"r-\")\n",
    "plt.annotate(line_eq,(17,37),fontsize=15,color=\"black\")\n",
    "plt.title(\"Northern Hemisphere - Latitude vs. Wind Speed Linear Regression\")\n",
    "plt.xlabel(\"Latitude\")\n",
    "plt.ylabel(\"Wind Speed (mph)\")\n",
    "print(f\"The r-squared is: {rvalue}\")\n",
    "print(f\"The equation of the regression line is: {line_eq}\")"
   ]
  },
  {
   "cell_type": "markdown",
   "metadata": {},
   "source": [
    "#The code is analyzing the linear relationsh8ip between windspeed above the equator"
   ]
  },
  {
   "cell_type": "markdown",
   "metadata": {},
   "source": [
    "####  Southern Hemisphere - Wind Speed (mph) vs. Latitude Linear Regression"
   ]
  },
  {
   "cell_type": "code",
   "execution_count": 38,
   "metadata": {
    "scrolled": true
   },
   "outputs": [
    {
     "name": "stdout",
     "output_type": "stream",
     "text": [
      "The r-squared is: 0.08777176995890604\n",
      "The equation of the regression line is: y = 0.02x + 9.03\n"
     ]
    },
    {
     "data": {
      "image/png": "[encoded data removed]",
      "text/plain": [
       "<Figure size 432x288 with 1 Axes>"
      ]
     },
     "metadata": {
      "needs_background": "light"
     },
     "output_type": "display_data"
    }
   ],
   "source": [
    "x_values = hemp_south['Lat']\n",
    "y_values = hemp_south['Wind Speed']\n",
    "(slope, intercept, rvalue, pvalue, stderr) = linregress(x_values, y_values)\n",
    "regress_values = x_values * slope + intercept\n",
    "line_eq = f'y = {str(round(slope,2))}x + {str(round(intercept,2))}'\n",
    "plt.scatter(x_values,y_values)\n",
    "plt.plot(x_values,regress_values,\"r-\")\n",
    "plt.annotate(line_eq,(17,37),fontsize=15,color=\"black\")\n",
    "plt.title(\"Southern Hemisphere - Latitude vs. Wind Speed Linear Regression\")\n",
    "plt.xlabel(\"Latitude\")\n",
    "plt.ylabel(\"Wind Speed (mph)\")\n",
    "print(f\"The r-squared is: {rvalue}\")\n",
    "print(f\"The equation of the regression line is: {line_eq}\")\n",
    "\n",
    "\n",
    "plt.show()"
   ]
  },
  {
   "cell_type": "markdown",
   "metadata": {},
   "source": [
    "The code is analyzing the linear relationsh8ip between windspeed below the equator"
   ]
  },
  {
   "cell_type": "markdown",
   "metadata": {},
   "source": [
    "Wind Speed is fairly low in June, probably due to the height of temperatures.Cloudiness in June seems to be evenly spread, and not really determined by location.In June, it seems that humidities are lower in the North Eastern Hemisphere. but overall, the humidity is pretty high in summer months."
   ]
  }
 ],
 "metadata": {
  "anaconda-cloud": {},
  "kernel_info": {
   "name": "python3"
  },
  "kernelspec": {
   "display_name": "Python [conda env:PythonData] *",
   "language": "python",
   "name": "conda-env-PythonData-py"
  },
  "language_info": {
   "codemirror_mode": {
    "name": "ipython",
    "version": 3
   },
   "file_extension": ".py",
   "mimetype": "text/x-python",
   "name": "python",
   "nbconvert_exporter": "python",
   "pygments_lexer": "ipython3",
   "version": "3.8.2"
  },
  "latex_envs": {
   "LaTeX_envs_menu_present": true,
   "autoclose": false,
   "autocomplete": true,
   "bibliofile": "biblio.bib",
   "cite_by": "apalike",
   "current_citInitial": 1,
   "eqLabelWithNumbers": true,
   "eqNumInitial": 1,
   "hotkeys": {
    "equation": "Ctrl-E",
    "itemize": "Ctrl-I"
   },
   "labels_anchors": false,
   "latex_user_defs": false,
   "report_style_numbering": false,
   "user_envs_cfg": false
  },
  "nteract": {
   "version": "0.12.3"
  }
 },
 "nbformat": 4,
 "nbformat_minor": 2
}
